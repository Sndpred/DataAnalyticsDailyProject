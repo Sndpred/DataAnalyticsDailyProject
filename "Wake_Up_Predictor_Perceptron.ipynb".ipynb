{
 "cells": [
  {
   "cell_type": "markdown",
   "id": "75a2c167-16c1-43b3-8bf1-fe0c87b46935",
   "metadata": {},
   "source": [
    "#will I wake up on time ?\n",
    "\n",
    "Alarm Volume   Sleep Hours             Wake up?\n",
    "     0              9                   0(NO)\n",
    "     1              8                   0(NO)\n",
    "     2              6                   1(YES)\n",
    "     3              4                   1(YES)"
   ]
  },
  {
   "cell_type": "code",
   "execution_count": 30,
   "id": "1de3312e-f61b-4e7f-bc39-68081c0af032",
   "metadata": {},
   "outputs": [],
   "source": [
    "import numpy as np"
   ]
  },
  {
   "cell_type": "code",
   "execution_count": 32,
   "id": "60101699-dea2-4d4d-bfc6-104e1fdb9c66",
   "metadata": {},
   "outputs": [],
   "source": [
    "#Activation function (binary step)\n",
    "def act_fun(x):\n",
    "    return 1 if x>=0 else 0"
   ]
  },
  {
   "cell_type": "code",
   "execution_count": 34,
   "id": "fdd38e67-fe3c-4efc-aae5-c303a403ba14",
   "metadata": {},
   "outputs": [],
   "source": [
    "#Perceptron class definition\n",
    "class Perceptron:\n",
    "    def __init__(self, input_size, lr=0.1, epochs=10):\n",
    "        self.weights = np.zeros(input_size + 1)\n",
    "        self.lr = lr\n",
    "        self.epochs = epochs\n",
    "\n",
    "    def predict(self,x):\n",
    "        x = np.insert(x,0,1)\n",
    "        z = np.dot(self.weights, x)\n",
    "        return act_fun(z)\n",
    "\n",
    "    def train (self, X, y):\n",
    "        for _ in range(self.epochs):\n",
    "            for xi, target in zip(X,y):\n",
    "                xi = np.insert(xi,0,1)\n",
    "                prediction = self.predict(xi[1:])\n",
    "                error = target - prediction\n",
    "                self.weights += self.lr*error*xi"
   ]
  },
  {
   "cell_type": "code",
   "execution_count": 36,
   "id": "026bec5a-d398-4575-adbf-21b3b3979405",
   "metadata": {},
   "outputs": [],
   "source": [
    "#Training data, Columns: [Alarm Volume, Sleep Hours]\n",
    "X = np.array([[0,9],\n",
    "              [1,8],\n",
    "              [2,6],\n",
    "              [3,4]])\n",
    "\n",
    "# Target: 0 = No wake-up, 1 = Wake-up\n",
    "y = np.array([0,0,1,1])"
   ]
  },
  {
   "cell_type": "code",
   "execution_count": 38,
   "id": "bf7bc588-99e1-4364-9979-c2b03eb6a5b2",
   "metadata": {},
   "outputs": [],
   "source": [
    "#Train the perceptron\n",
    "p = Perceptron(input_size = 2)\n",
    "p.train(X,y)"
   ]
  },
  {
   "cell_type": "code",
   "execution_count": 40,
   "id": "a26d8eff-4665-49a6-92ba-2a361c8a33c8",
   "metadata": {},
   "outputs": [
    {
     "name": "stdout",
     "output_type": "stream",
     "text": [
      "Predictions:\n",
      "Input:[0 9] - Prediction 0\n",
      "Input:[1 8] - Prediction 0\n",
      "Input:[2 6] - Prediction 1\n",
      "Input:[3 4] - Prediction 1\n"
     ]
    }
   ],
   "source": [
    "#Test predictions\n",
    "print(\"Predictions:\")\n",
    "for input in X:\n",
    "    print(f\"Input:{input} - Prediction {p.predict(input)}\")"
   ]
  },
  {
   "cell_type": "code",
   "execution_count": null,
   "id": "a5376f70-a247-4dc0-aa0a-366754360113",
   "metadata": {},
   "outputs": [],
   "source": []
  },
  {
   "cell_type": "code",
   "execution_count": 25,
   "id": "0cac2cc8-fab2-40f5-b0dd-6061e1a768e0",
   "metadata": {},
   "outputs": [
    {
     "name": "stdout",
     "output_type": "stream",
     "text": [
      "Predictions:\n",
      "Input: [0 9] → Prediction: 0\n",
      "Input: [1 8] → Prediction: 0\n",
      "Input: [2 6] → Prediction: 1\n",
      "Input: [3 4] → Prediction: 1\n"
     ]
    }
   ],
   "source": []
  },
  {
   "cell_type": "code",
   "execution_count": null,
   "id": "224fc421-876e-49dc-b1c6-249f1759325a",
   "metadata": {},
   "outputs": [],
   "source": []
  }
 ],
 "metadata": {
  "kernelspec": {
   "display_name": "Python [conda env:base] *",
   "language": "python",
   "name": "conda-base-py"
  },
  "language_info": {
   "codemirror_mode": {
    "name": "ipython",
    "version": 3
   },
   "file_extension": ".py",
   "mimetype": "text/x-python",
   "name": "python",
   "nbconvert_exporter": "python",
   "pygments_lexer": "ipython3",
   "version": "3.12.4"
  }
 },
 "nbformat": 4,
 "nbformat_minor": 5
}
