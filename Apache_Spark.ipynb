{
  "nbformat": 4,
  "nbformat_minor": 0,
  "metadata": {
    "colab": {
      "provenance": []
    },
    "kernelspec": {
      "name": "python3",
      "display_name": "Python 3"
    },
    "language_info": {
      "name": "python"
    }
  },
  "cells": [
    {
      "cell_type": "code",
      "execution_count": 1,
      "metadata": {
        "id": "Up6HB-OF-u2f"
      },
      "outputs": [],
      "source": [
        "from pyspark.sql import SparkSession"
      ]
    },
    {
      "cell_type": "code",
      "source": [
        "#build a spark session, name the app ArchDemo, use all CPU and get spark session if present otherwise create it and assign with the variable.\n",
        "\n",
        "spark = (\n",
        "    SparkSession.builder\n",
        "    .appName(\"ArchDemo\")\n",
        "    .master(\"local[*]\")\n",
        "    .getOrCreate()\n",
        ")\n",
        "\n",
        "data = [(\"Baburao\", 100), (\"Raju\", 200), (\"Shyam\", 300)]\n",
        "df = spark.createDataFrame(data, [\"Name\", \"Sales\"])\n",
        "\n",
        "update_df = df.withColumn(\"Bonus\", df.Sales * 0.10)\n",
        "\n",
        "update_df.show()\n",
        "\n",
        "spark.stop()\n"
      ],
      "metadata": {
        "colab": {
          "base_uri": "https://localhost:8080/"
        },
        "id": "hdo9u_eA-x4b",
        "outputId": "f5186114-375f-473e-af7c-f796c92b0567"
      },
      "execution_count": 2,
      "outputs": [
        {
          "output_type": "stream",
          "name": "stdout",
          "text": [
            "+-------+-----+-----+\n",
            "|   Name|Sales|Bonus|\n",
            "+-------+-----+-----+\n",
            "|Baburao|  100| 10.0|\n",
            "|   Raju|  200| 20.0|\n",
            "|  Shyam|  300| 30.0|\n",
            "+-------+-----+-----+\n",
            "\n"
          ]
        }
      ]
    },
    {
      "cell_type": "code",
      "source": [
        "spark = (\n",
        "    SparkSession.builder\n",
        "    .appName(\"ArchDemo\")\n",
        "    .master(\"local[*]\")\n",
        "    .getOrCreate()\n",
        ")\n",
        "\n",
        "rdd = spark.sparkContext.parallelize([1,2,3,4])\n",
        "rdd.collect()\n",
        "\n",
        "spark.stop()"
      ],
      "metadata": {
        "id": "prx2AdCZ-0KL"
      },
      "execution_count": 3,
      "outputs": []
    },
    {
      "cell_type": "code",
      "source": [
        "#data cleaning using PySpark\n",
        "\n",
        "from pyspark.sql import SparkSession\n",
        "from pyspark.sql.functions import col, trim, lower, to_date, mean,regexp_replace\n",
        "\n",
        "spark = (\n",
        "    SparkSession.builder\n",
        "    .appName(\"Data Cleaning\")\n",
        "    .master(\"local[*]\")\n",
        "    .getOrCreate()\n",
        ")"
      ],
      "metadata": {
        "id": "s1LkmYlq_CrT"
      },
      "execution_count": 4,
      "outputs": []
    },
    {
      "cell_type": "code",
      "source": [
        "synthetic_data = \"\"\"id,name,age,address,join_date\n",
        "1, Alice,23,123 Main St.,2023-01-01\n",
        "2,Bob,30,456 Oak Ave.,2023-02-15\n",
        "3,Charlie,27,789 Pine Rd.,2023-03-10\n",
        "4,Diana,35,321 Elm St.,2023-04-05\n",
        "5,Ethan,29,654 Maple Blvd.,2023-05-20\n",
        "6,Fiona,24,987 Birch Ln.,2023-06-12\n",
        "7,George,32,741 Cedar Ct.,2023-07-08\n",
        "8,Hannah,28,159 Spruce Dr.,2023-08-22\n",
        "9,Ivan,26,852 Walnut Way,2023-09-14\n",
        "10,Julia,31,963 Cherry St.,2023-10-30\"\"\""
      ],
      "metadata": {
        "id": "o5FSrKFG_PgW"
      },
      "execution_count": 5,
      "outputs": []
    },
    {
      "cell_type": "code",
      "source": [
        "synthetic_data"
      ],
      "metadata": {
        "colab": {
          "base_uri": "https://localhost:8080/",
          "height": 73
        },
        "id": "o47L56p8_SMj",
        "outputId": "a8bea7d5-065c-450d-f141-a464768e2215"
      },
      "execution_count": 6,
      "outputs": [
        {
          "output_type": "execute_result",
          "data": {
            "text/plain": [
              "'id,name,age,address,join_date\\n1, Alice,23,123 Main St.,2023-01-01\\n2,Bob,30,456 Oak Ave.,2023-02-15\\n3,Charlie,27,789 Pine Rd.,2023-03-10\\n4,Diana,35,321 Elm St.,2023-04-05\\n5,Ethan,29,654 Maple Blvd.,2023-05-20\\n6,Fiona,24,987 Birch Ln.,2023-06-12\\n7,George,32,741 Cedar Ct.,2023-07-08\\n8,Hannah,28,159 Spruce Dr.,2023-08-22\\n9,Ivan,26,852 Walnut Way,2023-09-14\\n10,Julia,31,963 Cherry St.,2023-10-30'"
            ],
            "application/vnd.google.colaboratory.intrinsic+json": {
              "type": "string"
            }
          },
          "metadata": {},
          "execution_count": 6
        }
      ]
    },
    {
      "cell_type": "code",
      "source": [
        "with open(\"synthetic_data\", \"w\") as f:\n",
        "    f.write(synthetic_data)"
      ],
      "metadata": {
        "id": "SndiTZ0l_UaM"
      },
      "execution_count": 7,
      "outputs": []
    },
    {
      "cell_type": "code",
      "source": [
        "df = spark.read.csv(\"synthetic_data\", header=True, inferSchema=True)\n",
        "df.show()"
      ],
      "metadata": {
        "colab": {
          "base_uri": "https://localhost:8080/"
        },
        "id": "iFFJsXMh_WW3",
        "outputId": "953bf2e5-02fb-442e-8140-ce5fd29a0f85"
      },
      "execution_count": 9,
      "outputs": [
        {
          "output_type": "stream",
          "name": "stdout",
          "text": [
            "+---+-------+---+---------------+----------+\n",
            "| id|   name|age|        address| join_date|\n",
            "+---+-------+---+---------------+----------+\n",
            "|  1|  Alice| 23|   123 Main St.|2023-01-01|\n",
            "|  2|    Bob| 30|   456 Oak Ave.|2023-02-15|\n",
            "|  3|Charlie| 27|   789 Pine Rd.|2023-03-10|\n",
            "|  4|  Diana| 35|    321 Elm St.|2023-04-05|\n",
            "|  5|  Ethan| 29|654 Maple Blvd.|2023-05-20|\n",
            "|  6|  Fiona| 24|  987 Birch Ln.|2023-06-12|\n",
            "|  7| George| 32|  741 Cedar Ct.|2023-07-08|\n",
            "|  8| Hannah| 28| 159 Spruce Dr.|2023-08-22|\n",
            "|  9|   Ivan| 26| 852 Walnut Way|2023-09-14|\n",
            "| 10|  Julia| 31| 963 Cherry St.|2023-10-30|\n",
            "+---+-------+---+---------------+----------+\n",
            "\n"
          ]
        }
      ]
    },
    {
      "cell_type": "code",
      "source": [
        "df = df.withColumn(\"name\",lower(trim(col(\"name\"))))\n",
        "df.show()"
      ],
      "metadata": {
        "colab": {
          "base_uri": "https://localhost:8080/"
        },
        "id": "UJHWZvwp_YOw",
        "outputId": "2c6f7c0e-c0f1-46ab-f3ae-d106094384ac"
      },
      "execution_count": 10,
      "outputs": [
        {
          "output_type": "stream",
          "name": "stdout",
          "text": [
            "+---+-------+---+---------------+----------+\n",
            "| id|   name|age|        address| join_date|\n",
            "+---+-------+---+---------------+----------+\n",
            "|  1|  alice| 23|   123 Main St.|2023-01-01|\n",
            "|  2|    bob| 30|   456 Oak Ave.|2023-02-15|\n",
            "|  3|charlie| 27|   789 Pine Rd.|2023-03-10|\n",
            "|  4|  diana| 35|    321 Elm St.|2023-04-05|\n",
            "|  5|  ethan| 29|654 Maple Blvd.|2023-05-20|\n",
            "|  6|  fiona| 24|  987 Birch Ln.|2023-06-12|\n",
            "|  7| george| 32|  741 Cedar Ct.|2023-07-08|\n",
            "|  8| hannah| 28| 159 Spruce Dr.|2023-08-22|\n",
            "|  9|   ivan| 26| 852 Walnut Way|2023-09-14|\n",
            "| 10|  julia| 31| 963 Cherry St.|2023-10-30|\n",
            "+---+-------+---+---------------+----------+\n",
            "\n"
          ]
        }
      ]
    },
    {
      "cell_type": "code",
      "source": [],
      "metadata": {
        "id": "_h7Qrd8o_jm7"
      },
      "execution_count": null,
      "outputs": []
    }
  ]
}