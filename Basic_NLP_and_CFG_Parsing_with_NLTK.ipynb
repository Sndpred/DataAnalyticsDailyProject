{
 "cells": [
  {
   "cell_type": "code",
   "execution_count": 41,
   "id": "8d019d9f-4f41-43f9-9752-c675d38ba93e",
   "metadata": {},
   "outputs": [
    {
     "name": "stdout",
     "output_type": "stream",
     "text": [
      "My -> DETERMINANT\n",
      "name -> NOUN\n",
      "is -> VERB\n",
      "HariBahadur -> UNKNOWN\n"
     ]
    }
   ],
   "source": [
    "sentence = \"My name is %%%*HariBahadur.\"\n",
    "import string\n",
    "\n",
    "sentence = sentence.translate(str.maketrans('','',string.punctuation))\n",
    "sentence\n",
    "\n",
    "tokens = sentence.split()\n",
    "tokens\n",
    "\n",
    "token_types = {\n",
    "    \"my\": \"DETERMINANT\",\n",
    "    \"name\": \"NOUN\",\n",
    "    \"is\": \"VERB\",\n",
    "    \"HariBahadur\": \"Proper Noun\"\n",
    "}\n",
    "\n",
    "for t in tokens:\n",
    "    word = t.lower()\n",
    "    token_type = token_types.get(word,\"UNKNOWN\")\n",
    "    print(f\"{t} -> {token_type}\")"
   ]
  },
  {
   "cell_type": "code",
   "execution_count": 11,
   "id": "2089b44d-569f-4fe3-9845-6f6408394ba0",
   "metadata": {},
   "outputs": [],
   "source": [
    "import nltk\n",
    "from nltk import CFG #CFG- context free grammar"
   ]
  },
  {
   "cell_type": "code",
   "execution_count": 15,
   "id": "7adeff66-925b-42e8-9f1c-31d450c0af13",
   "metadata": {},
   "outputs": [
    {
     "name": "stdout",
     "output_type": "stream",
     "text": [
      "              S                     \n",
      "      ________|_______               \n",
      "     |                VP            \n",
      "     |             ___|_______       \n",
      "     NP           |           NP    \n",
      "  ___|___         |           |      \n",
      "Det      N        V           N     \n",
      " |       |        |           |      \n",
      " My     name      is     HariBahadur\n",
      "\n"
     ]
    }
   ],
   "source": [
    "grammar = CFG.fromstring(\"\"\" \n",
    "    S -> NP VP\n",
    "    NP -> Det N | N\n",
    "    VP -> V NP\n",
    "    Det -> 'My'\n",
    "    N -> 'name' | 'HariBahadur'\n",
    "    V -> 'is'\n",
    "\n",
    "\"\"\"\n",
    "    \n",
    ")\n",
    "\n",
    "parser = nltk.ChartParser(grammar)\n",
    "\n",
    "sentence = ['My', 'name', 'is', 'HariBahadur']\n",
    "\n",
    "for t in parser.parse(sentence):\n",
    "    t.pretty_print()\n",
    "    "
   ]
  },
  {
   "cell_type": "code",
   "execution_count": 43,
   "id": "ad11a879-0d20-494a-b2aa-9fb0d9b7d12a",
   "metadata": {},
   "outputs": [],
   "source": []
  },
  {
   "cell_type": "code",
   "execution_count": null,
   "id": "ed46bce1-686b-4144-87c0-74e7ce4a46e1",
   "metadata": {},
   "outputs": [],
   "source": []
  }
 ],
 "metadata": {
  "kernelspec": {
   "display_name": "Python [conda env:base] *",
   "language": "python",
   "name": "conda-base-py"
  },
  "language_info": {
   "codemirror_mode": {
    "name": "ipython",
    "version": 3
   },
   "file_extension": ".py",
   "mimetype": "text/x-python",
   "name": "python",
   "nbconvert_exporter": "python",
   "pygments_lexer": "ipython3",
   "version": "3.12.4"
  }
 },
 "nbformat": 4,
 "nbformat_minor": 5
}
