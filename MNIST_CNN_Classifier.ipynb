{
 "cells": [
  {
   "cell_type": "code",
   "execution_count": 61,
   "id": "1f603976-f002-4e37-90e1-2b27ca6d6621",
   "metadata": {},
   "outputs": [
    {
     "data": {
      "image/png": "[encoded data removed]",
      "text/plain": [
       "<Figure size 1000x500 with 15 Axes>"
      ]
     },
     "metadata": {},
     "output_type": "display_data"
    },
    {
     "name": "stdout",
     "output_type": "stream",
     "text": [
      "Epoch 1/5\n",
      "\u001b[1m1688/1688\u001b[0m \u001b[32m━━━━━━━━━━━━━━━━━━━━\u001b[0m\u001b[37m\u001b[0m \u001b[1m9s\u001b[0m 5ms/step - accuracy: 0.8810 - loss: 1.0566 - val_accuracy: 0.9835 - val_loss: 0.0618\n",
      "Epoch 2/5\n",
      "\u001b[1m1688/1688\u001b[0m \u001b[32m━━━━━━━━━━━━━━━━━━━━\u001b[0m\u001b[37m\u001b[0m \u001b[1m8s\u001b[0m 5ms/step - accuracy: 0.9803 - loss: 0.0663 - val_accuracy: 0.9850 - val_loss: 0.0487\n",
      "Epoch 3/5\n",
      "\u001b[1m1688/1688\u001b[0m \u001b[32m━━━━━━━━━━━━━━━━━━━━\u001b[0m\u001b[37m\u001b[0m \u001b[1m8s\u001b[0m 5ms/step - accuracy: 0.9857 - loss: 0.0473 - val_accuracy: 0.9822 - val_loss: 0.0577\n",
      "Epoch 4/5\n",
      "\u001b[1m1688/1688\u001b[0m \u001b[32m━━━━━━━━━━━━━━━━━━━━\u001b[0m\u001b[37m\u001b[0m \u001b[1m8s\u001b[0m 5ms/step - accuracy: 0.9877 - loss: 0.0404 - val_accuracy: 0.9842 - val_loss: 0.0584\n",
      "Epoch 5/5\n",
      "\u001b[1m1688/1688\u001b[0m \u001b[32m━━━━━━━━━━━━━━━━━━━━\u001b[0m\u001b[37m\u001b[0m \u001b[1m8s\u001b[0m 5ms/step - accuracy: 0.9894 - loss: 0.0334 - val_accuracy: 0.9893 - val_loss: 0.0424\n",
      "\u001b[1m313/313\u001b[0m \u001b[32m━━━━━━━━━━━━━━━━━━━━\u001b[0m\u001b[37m\u001b[0m \u001b[1m0s\u001b[0m 1ms/step - accuracy: 0.9846 - loss: 0.0557\n",
      "Test Accuracy:  0.988\n"
     ]
    },
    {
     "data": {
      "image/png": "[encoded data removed]",
      "text/plain": [
       "<Figure size 640x480 with 1 Axes>"
      ]
     },
     "metadata": {},
     "output_type": "display_data"
    },
    {
     "name": "stdout",
     "output_type": "stream",
     "text": [
      "\u001b[1m1/1\u001b[0m \u001b[32m━━━━━━━━━━━━━━━━━━━━\u001b[0m\u001b[37m\u001b[0m \u001b[1m0s\u001b[0m 23ms/step\n",
      "Predicted Digit for the first test image: 7\n"
     ]
    }
   ],
   "source": [
    "import tensorflow as tf\n",
    "from tensorflow.keras import layers,models # Import necessary Keras layers and models\n",
    "import matplotlib.pyplot as plt # Import matplotlib for plotting\n",
    "\n",
    "# Load the MNIST dataset from Keras. This dataset contains 60,000 training images\n",
    "# and 10,000 testing images of handwritten digits (0-9).\n",
    "# X_train, X_test store the image data (features).\n",
    "# y_train, y_test store the corresponding digit labels (targets).\n",
    "mnist = tf.keras.datasets.mnist\n",
    "(X_train, y_train), (X_test, y_test) = mnist.load_data()\n",
    "\n",
    "# Display the MNIST dataset object (mostly for introspection, not directly used)\n",
    "mnist\n",
    "\n",
    "# Print the shapes of the training and testing feature sets\n",
    "# X_train.shape will typically be (60000, 28, 28) for 60,000 28x28 grayscale images.\n",
    "X_train.shape\n",
    "# y_train.shape will typically be (60000,) for 60,000 corresponding labels.\n",
    "y_train.shape\n",
    "# X_test.shape will typically be (10000, 28, 28) for 10,000 28x28 grayscale images.\n",
    "X_test.shape\n",
    "\n",
    "# Create a new figure with a specified size (width=10 inches, height=5 inches)\n",
    "# This provides enough space for displaying multiple images clearly.\n",
    "plt.figure(figsize=(10,5))\n",
    "\n",
    "# Loop through the first 15 images of the training dataset\n",
    "for i in range(15):\n",
    "    # Create a subplot within a 3x5 grid.\n",
    "    # i+1 determines the position of the current subplot (1st to 15th).\n",
    "    plt.subplot(3,5,i+1)\n",
    "    # Display the i-th training image.\n",
    "    # cmap='gray' ensures the grayscale image is displayed in shades of gray.\n",
    "    plt.imshow(X_train[i], cmap='gray')\n",
    "    # Set the title of the current subplot to the corresponding label (digit).\n",
    "    plt.title(f\"{y_train[i]}\")\n",
    "    # Turn off the axis ticks for cleaner visualization.\n",
    "    plt.xticks([])\n",
    "    plt.yticks([])\n",
    "plt.tight_layout() # Adjust subplot parameters for a tight layout\n",
    "plt.show() # Display the figure with all the subplots\n",
    "\n",
    "# Reshape the training images to add a channel dimension.\n",
    "# CNNs expect input shape like (batch_size, height, width, channels).\n",
    "# -1 automatically calculates the batch size (number of images).\n",
    "# 28, 28 are height and width.\n",
    "# 1 indicates a single channel (grayscale).\n",
    "# .astype(float) converts pixel values to float, necessary for neural network computations.\n",
    "X_train = X_train.reshape(-1, 28, 28, 1).astype(float) #[0,1] - Note: actual scaling to [0,1] is usually done by dividing by 255.0\n",
    "X_test = X_test.reshape(-1,28,28,1).astype(float)\n",
    "\n",
    "\n",
    "# Define the Convolutional Neural Network (CNN) model using Keras Sequential API.\n",
    "model = models.Sequential([\n",
    "    # First Convolutional Layer:\n",
    "    # 32 filters, each 3x3.\n",
    "    # 'relu' activation for non-linearity.\n",
    "    # input_shape defines the expected shape of input images for the first layer (28x28 pixels, 1 channel).\n",
    "    layers.Conv2D(32,(3,3),activation = 'relu', input_shape = (28,28,1)),\n",
    "    # First Max Pooling Layer:\n",
    "    # Reduces spatial dimensions by taking the maximum value over 2x2 windows.\n",
    "    layers.MaxPooling2D((2,2)),\n",
    "    # Second Convolutional Layer:\n",
    "    # 64 filters, each 3x3. Operates on the downsampled feature maps.\n",
    "    layers.Conv2D(64,(3,3),activation = 'relu'),\n",
    "    # Second Max Pooling Layer:\n",
    "    # Further reduces spatial dimensions.\n",
    "    layers.MaxPooling2D((2,2)),\n",
    "    # Flatten Layer:\n",
    "    # Converts the 2D feature maps from the previous layer into a 1D vector.\n",
    "    # This prepares the data for the fully connected (Dense) layers.\n",
    "    layers.Flatten(),\n",
    "    # First Dense (Fully Connected) Layer:\n",
    "    # 64 neurons with 'relu' activation. Processes the flattened features.\n",
    "    layers.Dense(64, activation = 'relu'),\n",
    "    # Output Dense Layer:\n",
    "    # 10 neurons, corresponding to the 10 digit classes (0-9).\n",
    "    # 'softmax' activation converts raw outputs into probabilities, summing to 1.\n",
    "    layers.Dense(10, activation = 'softmax')\n",
    "])\n",
    "\n",
    "# Compile the model: Configure the learning process.\n",
    "model.compile(\n",
    "    optimizer = 'adam', # Adam optimizer: an efficient gradient descent algorithm.\n",
    "    loss = 'sparse_categorical_crossentropy', # Loss function for multi-class classification with integer labels.\n",
    "    metrics = ['accuracy'] # Metric to monitor during training and evaluation.\n",
    ")\n",
    "\n",
    "# Train the model:\n",
    "# X_train, y_train: Training data and labels.\n",
    "# epochs=5: The model will iterate over the entire training dataset 5 times.\n",
    "# validation_split=0.1: 10% of the training data will be used as a validation set\n",
    "#                       to monitor performance on unseen data during training.\n",
    "model.fit(X_train, y_train, epochs=5, validation_split=0.1)\n",
    "\n",
    "# Evaluate the model on the test dataset (X_test, y_test).\n",
    "# This provides an unbiased estimate of the model's performance on new, unseen data.\n",
    "test_loss, test_acc = model.evaluate(X_test,y_test)\n",
    "\n",
    "# Print the test accuracy, formatted to 3 decimal places.\n",
    "print(f\"Test Accuracy: {test_acc: .3f}\")\n",
    "\n",
    "# Display the first image from the test set.\n",
    "# X_test[0] is (28, 28, 1), so reshape it back to (28, 28) for imshow.\n",
    "plt.imshow(X_test[0].reshape(28,28),cmap='gray')\n",
    "plt.title(\"First Test Image\")\n",
    "plt.axis('off') # Hide axes for better visual appeal\n",
    "plt.show()\n",
    "\n",
    "# Make a prediction on the first image of the test set.\n",
    "# X_test[0:1] creates a batch of 1 image, which the model expects.\n",
    "pred = model.predict(X_test[0:1])\n",
    "\n",
    "# Print the predicted digit.\n",
    "# pred is a probability distribution (e.g., [0.01, 0.002, ..., 0.98, ...]).\n",
    "# .argmax() returns the index of the highest probability, which is the predicted digit.\n",
    "print(f\"Predicted Digit for the first test image: {pred.argmax()}\")"
   ]
  },
  {
   "cell_type": "code",
   "execution_count": null,
   "id": "5388a89f-65b7-4a55-9d39-d303d4f4fdfe",
   "metadata": {},
   "outputs": [],
   "source": []
  }
 ],
 "metadata": {
  "kernelspec": {
   "display_name": "Python [conda env:base] *",
   "language": "python",
   "name": "conda-base-py"
  },
  "language_info": {
   "codemirror_mode": {
    "name": "ipython",
    "version": 3
   },
   "file_extension": ".py",
   "mimetype": "text/x-python",
   "name": "python",
   "nbconvert_exporter": "python",
   "pygments_lexer": "ipython3",
   "version": "3.12.4"
  }
 },
 "nbformat": 4,
 "nbformat_minor": 5
}
