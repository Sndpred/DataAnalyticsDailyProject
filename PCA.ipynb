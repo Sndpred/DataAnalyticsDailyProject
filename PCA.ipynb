{
 "cells": [
  {
   "cell_type": "code",
   "execution_count": null,
   "id": "a3da8dfb-0f6d-4bd3-8fd9-0bd68cb88d9b",
   "metadata": {},
   "outputs": [],
   "source": [
    "#PCA -> Customer Behavior Online Platform\n",
    "#Reuce Dimensionality\n",
    "#Segment Customers for target marketing campaigns\n",
    "\n"
   ]
  },
  {
   "cell_type": "code",
   "execution_count": 11,
   "id": "2c5fd6ba-5666-4332-99f3-ededa5a228ad",
   "metadata": {},
   "outputs": [],
   "source": [
    "#import modules and create synthetic data\n",
    "import pandas as pd\n",
    "data = pd.DataFrame({\n",
    "    'Age': [32,45,24,21,37],\n",
    "    'Annual Income': [400000, 50000, 40000, 200000, 600000],\n",
    "    'SessionTime': [5,8,7,4,6],\n",
    "    'NumItemPurchased': [4,1,2,4,9],\n",
    "    'Rating': [4.2,4.8,5,4.1,4.9]\n",
    "})"
   ]
  },
  {
   "cell_type": "code",
   "execution_count": 13,
   "id": "3e5f8c19-3ea2-4cac-b03c-fe2efeeda27d",
   "metadata": {},
   "outputs": [
    {
     "data": {
      "text/html": [
       "<div>\n",
       "<style scoped>\n",
       "    .dataframe tbody tr th:only-of-type {\n",
       "        vertical-align: middle;\n",
       "    }\n",
       "\n",
       "    .dataframe tbody tr th {\n",
       "        vertical-align: top;\n",
       "    }\n",
       "\n",
       "    .dataframe thead th {\n",
       "        text-align: right;\n",
       "    }\n",
       "</style>\n",
       "<table border=\"1\" class=\"dataframe\">\n",
       "  <thead>\n",
       "    <tr style=\"text-align: right;\">\n",
       "      <th></th>\n",
       "      <th>Age</th>\n",
       "      <th>Annual Income</th>\n",
       "      <th>SessionTime</th>\n",
       "      <th>NumItemPurchased</th>\n",
       "      <th>Rating</th>\n",
       "    </tr>\n",
       "  </thead>\n",
       "  <tbody>\n",
       "    <tr>\n",
       "      <th>0</th>\n",
       "      <td>32</td>\n",
       "      <td>400000</td>\n",
       "      <td>5</td>\n",
       "      <td>4</td>\n",
       "      <td>4.2</td>\n",
       "    </tr>\n",
       "    <tr>\n",
       "      <th>1</th>\n",
       "      <td>45</td>\n",
       "      <td>50000</td>\n",
       "      <td>8</td>\n",
       "      <td>1</td>\n",
       "      <td>4.8</td>\n",
       "    </tr>\n",
       "    <tr>\n",
       "      <th>2</th>\n",
       "      <td>24</td>\n",
       "      <td>40000</td>\n",
       "      <td>7</td>\n",
       "      <td>2</td>\n",
       "      <td>5.0</td>\n",
       "    </tr>\n",
       "    <tr>\n",
       "      <th>3</th>\n",
       "      <td>21</td>\n",
       "      <td>200000</td>\n",
       "      <td>4</td>\n",
       "      <td>4</td>\n",
       "      <td>4.1</td>\n",
       "    </tr>\n",
       "    <tr>\n",
       "      <th>4</th>\n",
       "      <td>37</td>\n",
       "      <td>600000</td>\n",
       "      <td>6</td>\n",
       "      <td>9</td>\n",
       "      <td>4.9</td>\n",
       "    </tr>\n",
       "  </tbody>\n",
       "</table>\n",
       "</div>"
      ],
      "text/plain": [
       "   Age  Annual Income  SessionTime  NumItemPurchased  Rating\n",
       "0   32         400000            5                 4     4.2\n",
       "1   45          50000            8                 1     4.8\n",
       "2   24          40000            7                 2     5.0\n",
       "3   21         200000            4                 4     4.1\n",
       "4   37         600000            6                 9     4.9"
      ]
     },
     "execution_count": 13,
     "metadata": {},
     "output_type": "execute_result"
    }
   ],
   "source": [
    "data"
   ]
  },
  {
   "cell_type": "code",
   "execution_count": 19,
   "id": "a901de64-f6df-4803-b16f-e466ad9316a2",
   "metadata": {},
   "outputs": [
    {
     "data": {
      "text/plain": [
       "array([[ 0.02297788,  0.66024376, -0.70710678,  0.        , -1.06904497],\n",
       "       [ 1.51654027, -0.96711762,  1.41421356, -1.08821438,  0.53452248],\n",
       "       [-0.89613743, -1.01361366,  0.70710678, -0.72547625,  1.06904497],\n",
       "       [-1.24080568, -0.26967703, -1.41421356,  0.        , -1.33630621],\n",
       "       [ 0.59742496,  1.59016456,  0.        ,  1.81369063,  0.80178373]])"
      ]
     },
     "execution_count": 19,
     "metadata": {},
     "output_type": "execute_result"
    }
   ],
   "source": [
    "#PCA -> sensitive to scale StandardScaler() - scales each column to mean=0, std=1\n",
    "#data standarization -> zero mean, unit variance\n",
    "\n",
    "from sklearn.preprocessing import StandardScaler\n",
    "\n",
    "scaler = StandardScaler()\n",
    "scaled_data = scaler.fit_transform(data)\n",
    "\n",
    "scaled_data"
   ]
  },
  {
   "cell_type": "code",
   "execution_count": 25,
   "id": "cda350f5-8c27-4f6f-bd8b-9301bbc24f26",
   "metadata": {},
   "outputs": [
    {
     "data": {
      "text/plain": [
       "array([[-1.16446941, -0.19487407],\n",
       "       [ 2.42144055,  0.12387304],\n",
       "       [ 1.3317452 , -0.80214308],\n",
       "       [-1.71465113, -1.55196388],\n",
       "       [-0.87406521,  2.42510799]])"
      ]
     },
     "execution_count": 25,
     "metadata": {},
     "output_type": "execute_result"
    }
   ],
   "source": [
    "#applying pca\n",
    "from sklearn.decomposition import PCA\n",
    "\n",
    "pca = PCA(n_components =2)\n",
    "principal_components =pca.fit_transform(scaled_data)\n",
    "principal_components"
   ]
  },
  {
   "cell_type": "code",
   "execution_count": 27,
   "id": "0868883e-2757-40b3-a037-3897d599bad9",
   "metadata": {},
   "outputs": [
    {
     "name": "stdout",
     "output_type": "stream",
     "text": [
      "[0.50787708 0.35945978]\n"
     ]
    }
   ],
   "source": [
    "print(pca.explained_variance_ratio_)"
   ]
  },
  {
   "cell_type": "code",
   "execution_count": 29,
   "id": "fe374f60-e182-40e7-82a6-f363183ffab5",
   "metadata": {},
   "outputs": [
    {
     "name": "stdout",
     "output_type": "stream",
     "text": [
      "        PC1       PC2\n",
      "0 -1.164469 -0.194874\n",
      "1  2.421441  0.123873\n",
      "2  1.331745 -0.802143\n",
      "3 -1.714651 -1.551964\n",
      "4 -0.874065  2.425108\n"
     ]
    }
   ],
   "source": [
    "result = pd.DataFrame(\n",
    "    principal_components,\n",
    "    columns = ['PC1', 'PC2']\n",
    ")\n",
    "\n",
    "print(result)"
   ]
  },
  {
   "cell_type": "code",
   "execution_count": 39,
   "id": "48497b7e-8fae-4ca7-9f39-ca953ef420c3",
   "metadata": {},
   "outputs": [
    {
     "data": {
      "image/png": "[encoded data removed]",
      "text/plain": [
       "<Figure size 640x480 with 1 Axes>"
      ]
     },
     "metadata": {},
     "output_type": "display_data"
    }
   ],
   "source": [
    "import matplotlib.pyplot as plt\n",
    "\n",
    "plt.scatter(result['PC1'], result['PC2'])\n",
    "plt.xlabel('PC1')\n",
    "plt.ylabel('PC2')\n",
    "plt.title('PCA Scatter Plot')\n",
    "plt.grid(True)\n",
    "plt.show()\n",
    "\n"
   ]
  },
  {
   "cell_type": "code",
   "execution_count": null,
   "id": "67a4f5db-871e-4e89-8443-3fb78a42e45a",
   "metadata": {},
   "outputs": [],
   "source": []
  }
 ],
 "metadata": {
  "kernelspec": {
   "display_name": "Python [conda env:base] *",
   "language": "python",
   "name": "conda-base-py"
  },
  "language_info": {
   "codemirror_mode": {
    "name": "ipython",
    "version": 3
   },
   "file_extension": ".py",
   "mimetype": "text/x-python",
   "name": "python",
   "nbconvert_exporter": "python",
   "pygments_lexer": "ipython3",
   "version": "3.12.4"
  }
 },
 "nbformat": 4,
 "nbformat_minor": 5
}
