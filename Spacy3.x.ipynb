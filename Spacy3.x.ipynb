{
 "cells": [
  {
   "cell_type": "code",
   "execution_count": 1,
   "id": "ea4d4d56-8970-417c-93ed-23ec57a45309",
   "metadata": {},
   "outputs": [],
   "source": [
    "import spacy\n",
    "#from spacy.util import minibatch, compounding\n",
    "from spacy.training.example import Example\n",
    "import random"
   ]
  },
  {
   "cell_type": "markdown",
   "id": "01e249ce-a400-4516-975a-56fd92c8c7f3",
   "metadata": {},
   "source": [
    "# spacy -> \n",
    "- Fast,modern and powerful open-source NLP library\n",
    "- Built in Python and Cython\n",
    "- For production ready NLP tasks.\n",
    "- Common Use Cases:\n",
    "  - Sentiment Analysis\n",
    "  - Resume Screening\n",
    "  - Intentions capturing -> Chatbot\n",
    "\n",
    "# Spacy  Vs NLTK Vs Hugging Face\n",
    "- spacy -> production ready NLP tasks\n",
    "- nltk -> Academic purpose\n",
    "- HuggingFace -> Deep learning transformers[GPT,BERT]]\n",
    "\n",
    "# Stages of NLP Processing\n",
    "1. Sentence Segmentation\n",
    "2. Word Tokenisation\n",
    "3. Stemming\n",
    "4. Lemmatisation\n",
    "5. stop word removal\n"
   ]
  },
  {
   "cell_type": "code",
   "execution_count": 51,
   "id": "8068bb61-6c60-4215-8e76-2f71b4fb4bf7",
   "metadata": {},
   "outputs": [],
   "source": [
    "# pip install spacy\n",
    "import spacy # core library\n",
    "from spacy.util import minibatch,compounding\n",
    "from spacy.training.example import Example"
   ]
  },
  {
   "cell_type": "code",
   "execution_count": 13,
   "id": "8e038920-2724-4eb8-9a12-6ec557612c48",
   "metadata": {},
   "outputs": [],
   "source": [
    "# Synthetic Data\n",
    "train_data = [\n",
    "    (\"I love this product!\", {\"cats\":{\"Positive\":1, \"Negative\":0}}),\n",
    "    (\"This is the worst thing ever\", {\"cats\":{\"Positive\":0, \"Negative\":1}}),\n",
    "    (\"Absolutely fantastic experience\", {\"cats\":{\"Positive\":1, \"Negative\":0}}),\n",
    "    (\"Horrible and Disappointing\", {\"cats\":{\"Positive\":0, \"Negative\":1}})\n",
    "]"
   ]
  },
  {
   "cell_type": "code",
   "execution_count": 15,
   "id": "50b035a1-1db9-4198-bab6-af2346016d05",
   "metadata": {},
   "outputs": [
    {
     "data": {
      "text/plain": [
       "[('I love this product!', {'cats': {'Positive': 1, 'Negative': 0}}),\n",
       " ('This is the worst thing ever', {'cats': {'Positive': 0, 'Negative': 1}}),\n",
       " ('Absolutely fantastic experience', {'cats': {'Positive': 1, 'Negative': 0}}),\n",
       " ('Horrible and Disappointing', {'cats': {'Positive': 0, 'Negative': 1}})]"
      ]
     },
     "execution_count": 15,
     "metadata": {},
     "output_type": "execute_result"
    }
   ],
   "source": [
    "train_data"
   ]
  },
  {
   "cell_type": "code",
   "execution_count": 17,
   "id": "780961c9-d529-4109-831f-6a2ca454e855",
   "metadata": {},
   "outputs": [],
   "source": [
    "nlp = spacy.blank(\"en\") # creates blank nlp pipeline\n",
    "# no components like tokenizer, tagger or parser by default"
   ]
  },
  {
   "cell_type": "code",
   "execution_count": 19,
   "id": "596808f3-39d5-468d-98ec-28ee62b7d2d2",
   "metadata": {},
   "outputs": [
    {
     "data": {
      "text/plain": [
       "<spacy.lang.en.English at 0x111260950>"
      ]
     },
     "execution_count": 19,
     "metadata": {},
     "output_type": "execute_result"
    }
   ],
   "source": [
    "nlp"
   ]
  },
  {
   "cell_type": "code",
   "execution_count": 31,
   "id": "410af58b-ac9d-44d1-b9d7-3d96815f67bc",
   "metadata": {},
   "outputs": [],
   "source": [
    "textcat = nlp.add_pipe('textcat')"
   ]
  },
  {
   "cell_type": "code",
   "execution_count": 33,
   "id": "61ce179e-fddb-4e77-8964-1aebce43971d",
   "metadata": {},
   "outputs": [
    {
     "data": {
      "text/plain": [
       "1"
      ]
     },
     "execution_count": 33,
     "metadata": {},
     "output_type": "execute_result"
    }
   ],
   "source": [
    "textcat.add_label(\"Positive\")\n",
    "textcat.add_label(\"Negative\")"
   ]
  },
  {
   "cell_type": "code",
   "execution_count": 88,
   "id": "e037ed37-0f04-4579-b361-bad0e72f12d1",
   "metadata": {
    "scrolled": true
   },
   "outputs": [
    {
     "name": "stdout",
     "output_type": "stream",
     "text": [
      "Epoch:1 Losses:1.019780800\n",
      "Epoch:2 Losses:0.925620407\n",
      "Epoch:3 Losses:1.039726079\n",
      "Epoch:4 Losses:0.907685399\n",
      "Epoch:5 Losses:0.884710997\n",
      "Epoch:6 Losses:0.733374104\n",
      "Epoch:7 Losses:0.592917152\n",
      "Epoch:8 Losses:0.478083082\n",
      "Epoch:9 Losses:0.243151529\n",
      "Epoch:10 Losses:0.125176670\n",
      "Epoch:11 Losses:0.069709800\n",
      "Epoch:12 Losses:0.019591542\n",
      "Epoch:13 Losses:0.006790793\n",
      "Epoch:14 Losses:0.001314265\n",
      "Epoch:15 Losses:0.000357469\n",
      "Epoch:16 Losses:0.000112241\n",
      "Epoch:17 Losses:0.000056371\n",
      "Epoch:18 Losses:0.000039142\n",
      "Epoch:19 Losses:0.000068438\n",
      "Epoch:20 Losses:0.000006706\n"
     ]
    }
   ],
   "source": [
    "# Supports updated version of Spacy\n",
    "opt = nlp.begin_training()\n",
    "for i in range(20): # 20 epochs - helps machine learns better\n",
    "    random.shuffle(train_data) # prevents overfitting\n",
    "    losses = {} # dictionary to collect loss value \n",
    "    for text, annotations in train_data: # text - sentence, annotations - label\n",
    "        doc = nlp.make_doc(text) # collection of text | tokenised\n",
    "        example = Example.from_dict(doc, annotations) # Converts text and annotation into Example object\n",
    "        nlp.update([example], sgd=opt, losses=losses,  drop=0.3) # update the model using backpropogation\n",
    "    print(f\"Epoch:{i+1} Losses:{losses['textcat']:.9f}\") # print the epoch number and loss value"
   ]
  },
  {
   "cell_type": "code",
   "execution_count": null,
   "id": "03a35ea6-ea42-4b06-a09c-94d4fffbd629",
   "metadata": {},
   "outputs": [],
   "source": []
  }
 ],
 "metadata": {
  "kernelspec": {
   "display_name": "bda74",
   "language": "python",
   "name": "myenv"
  },
  "language_info": {
   "codemirror_mode": {
    "name": "ipython",
    "version": 3
   },
   "file_extension": ".py",
   "mimetype": "text/x-python",
   "name": "python",
   "nbconvert_exporter": "python",
   "pygments_lexer": "ipython3",
   "version": "3.12.7"
  }
 },
 "nbformat": 4,
 "nbformat_minor": 5
}
